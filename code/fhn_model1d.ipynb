{
 "cells": [
  {
   "cell_type": "code",
   "execution_count": 1,
   "metadata": {},
   "outputs": [],
   "source": [
    "import numpy as np\n",
    "import matplotlib.pyplot as plt\n",
    "import random"
   ]
  },
  {
   "cell_type": "code",
   "execution_count": null,
   "metadata": {},
   "outputs": [],
   "source": [
    "def f(u, v):\n",
    "    return u - u**3 / 3 - v\n",
    "\n",
    "\n",
    "def g(u, v, a, b):\n",
    "    return u + a - b * v\n",
    "\n",
    "\n",
    "def laplacian_1d(f, dx):\n",
    "    n = len(f)\n",
    "    diagonal = -2 * np.ones(n)\n",
    "    off_diagonal = np.ones(n - 1)\n",
    "    laplacian = (\n",
    "        np.diag(diagonal) + np.diag(off_diagonal, k=1) + np.diag(off_diagonal, k=-1)\n",
    "    ) / dx**2\n",
    "\n",
    "    # laplacian[-1, 0] = 1\n",
    "    # laplacian[0, -1] = 1\n",
    "\n",
    "    return laplacian @ f\n",
    "\n",
    "\n",
    "# Simulation: regular FHN with selective saving\n",
    "def simulate_regular_fhn(\n",
    "    T, dt, n_space, domain, a, b, epsilon, Du, Dv, save_every=5, bc=\"periodic\"\n",
    "):\n",
    "    x0, x1 = domain\n",
    "    dx = (x1 - x0) / n_space\n",
    "    t_vec_full = np.arange(0, T + dt, dt)\n",
    "    t_space = int(T / dt)\n",
    "\n",
    "    u = np.zeros((n_space, t_space))\n",
    "    v = np.zeros((n_space, t_space))\n",
    "\n",
    "    # Excite the center of the system\n",
    "    mid = u[:, 0].size // 2\n",
    "    mid_range = 10\n",
    "    u[:, 0] = 0.1007\n",
    "    u[mid - mid_range : mid + mid_range, 0] = 0.8\n",
    "\n",
    "    # Generate x values\n",
    "    x = np.linspace(-5, 5, length)\n",
    "\n",
    "    for i in range(t_space - 1):\n",
    "        uc = u[:, i]\n",
    "        vc = v[:, i]\n",
    "\n",
    "        lu = laplacian_1d(uc, dx)\n",
    "        lv = laplacian_1d(vc, dx)\n",
    "\n",
    "        u[:, i + 1] = uc + dt * (f(uc, vc) + Du * lu)\n",
    "        v[:, i + 1] = vc + dt * (epsilon * g(uc, vc, a, b) + Dv * lv)\n",
    "\n",
    "    return [np.linspace(x0, x1, n_space), t_vec_full[:-1], u, v]\n",
    "\n",
    "\n",
    "# Simulation: mass-conserved FHN with selective saving\n",
    "def simulate_mass_conserved_fhn(\n",
    "    T, dt, n_space, domain, a, b, epsilon, Du, Dv, save_every=1, bc=\"periodic\"\n",
    "):\n",
    "    x0, x1 = domain\n",
    "    dx = (x1 - x0) / n_space\n",
    "    t_vec_full = np.arange(0, T + dt, dt)\n",
    "    nbrs, mult = build_neighbors(n_space, bc)\n",
    "    u = 0.1 + 0.01 * np.random.randn(n_space, n_space)\n",
    "    v = 0.1 + 0.01 * np.random.randn(n_space, n_space)\n",
    "    u_list, v_list = [], []\n",
    "    for idx, _ in enumerate(t_vec_full[1:], start=1):\n",
    "        uf, vf = u.ravel(), v.ravel()\n",
    "        u_ext = np.concatenate([uf, [0.0]])\n",
    "        v_ext = np.concatenate([vf, [0.0]])\n",
    "        Lu = (u_ext[nbrs].sum(axis=0) - mult * uf) / (dx**2)\n",
    "        Lv = (v_ext[nbrs].sum(axis=0) - mult * vf) / (dx**2)\n",
    "        inner_u = f(u, v) + Du * Lu.reshape(n_space, n_space)\n",
    "        inner_v = epsilon * g(u, v, a, b) + Dv * Lv.reshape(n_space, n_space)\n",
    "        iu, iv = inner_u.ravel(), inner_v.ravel()\n",
    "        iu_ext, iv_ext = np.concatenate([iu, [0.0]]), np.concatenate([iv, [0.0]])\n",
    "        L2u = (iu_ext[nbrs].sum(axis=0) - mult * iu) / (dx**2)\n",
    "        L2v = (iv_ext[nbrs].sum(axis=0) - mult * iv) / (dx**2)\n",
    "        u = u - dt * L2u.reshape(n_space, n_space)\n",
    "        v = v - dt * L2v.reshape(n_space, n_space)\n",
    "        if idx % save_every == 0:\n",
    "            u_list.append(u.copy())\n",
    "            v_list.append(v.copy())\n",
    "    t_sampled = t_vec_full[save_every::save_every]\n",
    "    X = Y = np.linspace(x0, x1, n_space)\n",
    "    return [X, Y, t_sampled[:-2], np.array(u_list), np.array(v_list)]"
   ]
  },
  {
   "cell_type": "code",
   "execution_count": 38,
   "metadata": {},
   "outputs": [],
   "source": [
    "# Parameters\n",
    "a = 0.1\n",
    "b = 2\n",
    "epsilon = 0.01\n",
    "Du = 1.0\n",
    "Dv = 1.0\n",
    "n_space = 200\n",
    "\n",
    "domain = (-175, 175)\n",
    "\n",
    "# dx = 1.0\n",
    "dx = (domain[1] - domain[0]) / n_space\n",
    "dt_max = dx**4 / (8 * Du)\n",
    "dt = min(0.01, dt_max * 0.5)\n",
    "\n",
    "# Analysis & plotting\n",
    "# Parameters\n",
    "T = 200\n",
    "\n",
    "# Simulations\n",
    "xl, tl, uvc, vvc = simulate_regular_fhn(T, dt, n_space, domain, a, b, epsilon, Du, Dv)\n",
    "# Xm, Ym, tm, um, vm = simulate_mass_conserved_fhn(\n",
    "#     T, dt, n_space, domain, a, b, epsilon, Du, Dv, save_every=save_every\n",
    "# )"
   ]
  },
  {
   "cell_type": "code",
   "execution_count": 39,
   "metadata": {},
   "outputs": [
    {
     "data": {
      "image/png": "[encoded data removed]",
      "text/plain": [
       "<Figure size 800x500 with 2 Axes>"
      ]
     },
     "metadata": {},
     "output_type": "display_data"
    }
   ],
   "source": [
    "# Plotting\n",
    "plt.figure(figsize=(8, 5))\n",
    "plt.pcolormesh(tl, xl, uvc, shading=\"auto\", cmap=\"viridis\")\n",
    "plt.colorbar(label=\"u(x, t)\")\n",
    "plt.xlabel(\"t\")\n",
    "plt.ylabel(\"x\")\n",
    "plt.title(\"u(x, t)\")\n",
    "plt.tight_layout()\n",
    "plt.show()"
   ]
  },
  {
   "cell_type": "code",
   "execution_count": null,
   "metadata": {},
   "outputs": [],
   "source": []
  }
 ],
 "metadata": {
  "kernelspec": {
   "display_name": "fhn",
   "language": "python",
   "name": "python3"
  },
  "language_info": {
   "codemirror_mode": {
    "name": "ipython",
    "version": 3
   },
   "file_extension": ".py",
   "mimetype": "text/x-python",
   "name": "python",
   "nbconvert_exporter": "python",
   "pygments_lexer": "ipython3",
   "version": "3.13.2"
  }
 },
 "nbformat": 4,
 "nbformat_minor": 2
}
