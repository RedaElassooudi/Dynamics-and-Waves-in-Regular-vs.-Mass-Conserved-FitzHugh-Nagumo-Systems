{
 "cells": [
  {
   "cell_type": "code",
   "execution_count": 2,
   "metadata": {},
   "outputs": [],
   "source": [
    "import numpy as np\n",
    "import matplotlib.pyplot as plt\n",
    "import random"
   ]
  },
  {
   "cell_type": "code",
   "execution_count": 3,
   "metadata": {},
   "outputs": [],
   "source": [
    "def f(u, v):\n",
    "    return u - u**3 / 3 - v\n",
    "\n",
    "\n",
    "def g(u, v, a, b):\n",
    "    return u + a - b * v\n",
    "\n",
    "\n",
    "def laplacian_1d(f, dx):\n",
    "    n = len(f)\n",
    "    diagonal = -2 * np.ones(n)\n",
    "    off_diagonal = np.ones(n - 1)\n",
    "    laplacian = (\n",
    "        np.diag(diagonal) + np.diag(off_diagonal, k=1) + np.diag(off_diagonal, k=-1)\n",
    "    ) / dx**2\n",
    "\n",
    "    # laplacian[-1, 0] = 1\n",
    "    # laplacian[0, -1] = 1\n",
    "\n",
    "    return laplacian @ f\n",
    "\n",
    "\n",
    "# Simulation: regular FHN with selective saving\n",
    "def simulate_regular_fhn(\n",
    "    T, dt, n_space, domain, a, b, epsilon, Du, Dv, save_every=5, bc=\"periodic\"\n",
    "):\n",
    "    x0, x1 = domain\n",
    "    dx = (x1 - x0) / n_space\n",
    "    t_vec_full = np.arange(0, T + dt, dt)\n",
    "    t_space = int(T / dt)\n",
    "\n",
    "    u = 0.1007 * np.zeros((n_space, t_space))\n",
    "    v = 0.1003 * np.zeros((n_space, t_space))\n",
    "\n",
    "    # Excite the center of the system\n",
    "    u[:, 0] = -1.2720\n",
    "    v[:, 0] = -0.5860\n",
    "    mid = u[:, 0].size // 2\n",
    "    mid_range = 30\n",
    "    u[mid - mid_range : mid + mid_range, 0] = 0.8\n",
    "    u[:, 0] = u[:, 0] + 0.01 * np.random.randn(n_space)\n",
    "    # v[mid - mid_range : mid + mid_range, 0] = 0.1003\n",
    "\n",
    "    # Generate x values\n",
    "    x = np.linspace(-5, 5, n_space)\n",
    "\n",
    "    for i in range(t_space - 1):\n",
    "        uc = u[:, i]\n",
    "        vc = v[:, i]\n",
    "\n",
    "        lu = laplacian_1d(uc, dx)\n",
    "        lv = laplacian_1d(vc, dx)\n",
    "\n",
    "        u[:, i + 1] = uc + dt * (f(uc, vc) + Du * lu)\n",
    "        v[:, i + 1] = vc + dt * (epsilon * g(uc, vc, a, b) + Dv * lv)\n",
    "\n",
    "    return [np.linspace(x0, x1, n_space), t_vec_full[:-1], u, v]\n",
    "\n",
    "\n",
    "# Simulation: mass-conserved FHN with selective saving\n",
    "def simulate_mass_conserved_fhn(\n",
    "    T, dt, n_space, domain, a, b, epsilon, Du, Dv, save_every=1, bc=\"periodic\"\n",
    "):\n",
    "    x0, x1 = domain\n",
    "    dx = (x1 - x0) / n_space\n",
    "    t_vec_full = np.arange(0, T + dt, dt)\n",
    "    nbrs, mult = build_neighbors(n_space, bc)\n",
    "    u = 0.1 + 0.01 * np.random.randn(n_space, n_space)\n",
    "    v = 0.1 + 0.01 * np.random.randn(n_space, n_space)\n",
    "    u_list, v_list = [], []\n",
    "    for idx, _ in enumerate(t_vec_full[1:], start=1):\n",
    "        uf, vf = u.ravel(), v.ravel()\n",
    "        u_ext = np.concatenate([uf, [0.0]])\n",
    "        v_ext = np.concatenate([vf, [0.0]])\n",
    "        Lu = (u_ext[nbrs].sum(axis=0) - mult * uf) / (dx**2)\n",
    "        Lv = (v_ext[nbrs].sum(axis=0) - mult * vf) / (dx**2)\n",
    "        inner_u = f(u, v) + Du * Lu.reshape(n_space, n_space)\n",
    "        inner_v = epsilon * g(u, v, a, b) + Dv * Lv.reshape(n_space, n_space)\n",
    "        iu, iv = inner_u.ravel(), inner_v.ravel()\n",
    "        iu_ext, iv_ext = np.concatenate([iu, [0.0]]), np.concatenate([iv, [0.0]])\n",
    "        L2u = (iu_ext[nbrs].sum(axis=0) - mult * iu) / (dx**2)\n",
    "        L2v = (iv_ext[nbrs].sum(axis=0) - mult * iv) / (dx**2)\n",
    "        u = u - dt * L2u.reshape(n_space, n_space)\n",
    "        v = v - dt * L2v.reshape(n_space, n_space)\n",
    "        if idx % save_every == 0:\n",
    "            u_list.append(u.copy())\n",
    "            v_list.append(v.copy())\n",
    "    t_sampled = t_vec_full[save_every::save_every]\n",
    "    X = Y = np.linspace(x0, x1, n_space)\n",
    "    return [X, Y, t_sampled[:-2], np.array(u_list), np.array(v_list)]"
   ]
  },
  {
   "cell_type": "code",
   "execution_count": 4,
   "metadata": {},
   "outputs": [],
   "source": [
    "# Parameters\n",
    "a = 0.1\n",
    "b = 2\n",
    "epsilon = 0.01\n",
    "Du = 1.0\n",
    "Dv = 1.0\n",
    "n_space = 200\n",
    "\n",
    "domain = (-175, 175)\n",
    "\n",
    "# dx = 1.0\n",
    "dx = (domain[1] - domain[0]) / n_space\n",
    "dt_max = dx**4 / (8 * Du)\n",
    "dt = min(0.01, dt_max * 0.5)\n",
    "\n",
    "# Analysis & plotting\n",
    "# Parameters\n",
    "T = 200\n",
    "\n",
    "# Simulations\n",
    "xl, tl, uvc, vvc = simulate_regular_fhn(T, dt, n_space, domain, a, b, epsilon, Du, Dv)\n",
    "# Xm, Ym, tm, um, vm = simulate_mass_conserved_fhn(\n",
    "#     T, dt, n_space, domain, a, b, epsilon, Du, Dv, save_every=save_every\n",
    "# )"
   ]
  },
  {
   "cell_type": "code",
   "execution_count": 5,
   "metadata": {},
   "outputs": [
    {
     "data": {
      "image/png": "[encoded data removed]",
      "text/plain": [
       "<Figure size 576x360 with 2 Axes>"
      ]
     },
     "metadata": {
      "needs_background": "light"
     },
     "output_type": "display_data"
    }
   ],
   "source": [
    "# Plotting\n",
    "plt.figure(figsize=(8, 5))\n",
    "plt.pcolormesh(tl, xl, uvc, shading=\"auto\", cmap=\"viridis\")\n",
    "plt.colorbar(label=\"u(x, t)\")\n",
    "plt.xlabel(\"t\")\n",
    "plt.ylabel(\"x\")\n",
    "plt.title(\"u(x, t)\")\n",
    "plt.tight_layout()\n",
    "plt.show()"
   ]
  },
  {
   "cell_type": "code",
   "execution_count": 6,
   "metadata": {},
   "outputs": [
    {
     "name": "stdout",
     "output_type": "stream",
     "text": [
      "[-1.41205202 -1.56710699 -1.10631581  1.17798127  1.60151353  1.63560216\n",
      "  1.61901655  1.5980531   1.57809529  1.55931967  1.54143167  1.52421926\n",
      "  1.50756425  1.49140522  1.47571141  1.46046822  1.44566948  1.43131331\n",
      "  1.41739991  1.40393031  1.39090568  1.37832693  1.36619462  1.35450878\n",
      "  1.34326891  1.33247396  1.32212229  1.31221167  1.30273922  1.29370143\n",
      "  1.28509405  1.27691213  1.2691499   1.26180083  1.25485751  1.24831172\n",
      "  1.24215435  1.23637546  1.23096429  1.22590928  1.22119815  1.21681794\n",
      "  1.21275513  1.20899569  1.20552521  1.20232902  1.19939226  1.19670005\n",
      "  1.19423756  1.19199012  1.18994336  1.18808326  1.18639623  1.18486921\n",
      "  1.18348969  1.18224576  1.18112617  1.1801203   1.1792182   1.17841059\n",
      "  1.17768883  1.17704492  1.17647146  1.17596166  1.17550927  1.17510856\n",
      "  1.17475432  1.17444176  1.17416655  1.17392476  1.17371279  1.17352742\n",
      "  1.1733657   1.17322498  1.17310288  1.17299724  1.17290611  1.17282775\n",
      "  1.1727606   1.17270325  1.17265446  1.1726131   1.17257818  1.17254883\n",
      "  1.17252426  1.17250378  1.17248679  1.17247277  1.17246126  1.17245186\n",
      "  1.17244423  1.17243807  1.17243315  1.17242925  1.1724262   1.17242386\n",
      "  1.17242211  1.17242088  1.17242009  1.17241971  1.17241971  1.1724201\n",
      "  1.17242089  1.17242214  1.17242389  1.17242624  1.17242931  1.17243322\n",
      "  1.17243816  1.17244433  1.17245199  1.17246141  1.17247295  1.172487\n",
      "  1.17250403  1.17252455  1.17254917  1.17257858  1.17261357  1.172655\n",
      "  1.17270388  1.17276133  1.1728286   1.17290708  1.17299836  1.17310418\n",
      "  1.17322647  1.17336741  1.17352938  1.17371503  1.17392731  1.17416946\n",
      "  1.17444507  1.17475807  1.17511282  1.17551409  1.17596711  1.17647761\n",
      "  1.17705184  1.17769661  1.17841933  1.17922799  1.18013125  1.1811384\n",
      "  1.1822594   1.18350486  1.18488606  1.1864149   1.1881039   1.18996614\n",
      "  1.19201519  1.19426508  1.19673021  1.19942522  1.20236495  1.20556428\n",
      "  1.20903807  1.21280098  1.21686743  1.22125142  1.22596649  1.23102557\n",
      "  1.23644095  1.24222416  1.24838597  1.25493631  1.26188427  1.26923807\n",
      "  1.2770051   1.2851919   1.29380421  1.302847    1.31232448  1.32224019\n",
      "  1.33259697  1.34339708  1.35464213  1.36633318  1.37847072  1.39105471\n",
      "  1.40408462  1.4175595   1.4314782   1.44583967  1.4606437   1.47589215\n",
      "  1.49159115  1.50775522  1.52441497  1.54163153  1.55952259  1.5782993\n",
      "  1.59825506  1.61921269  1.63579409  1.60174218  1.17847167 -1.10577282\n",
      " -1.56694016 -1.41197363]\n"
     ]
    }
   ],
   "source": [
    "print(uvc[:, -1])"
   ]
  },
  {
   "cell_type": "code",
   "execution_count": null,
   "metadata": {},
   "outputs": [],
   "source": []
  }
 ],
 "metadata": {
  "kernelspec": {
   "display_name": "base",
   "language": "python",
   "name": "python3"
  },
  "language_info": {
   "codemirror_mode": {
    "name": "ipython",
    "version": 3
   },
   "file_extension": ".py",
   "mimetype": "text/x-python",
   "name": "python",
   "nbconvert_exporter": "python",
   "pygments_lexer": "ipython3",
   "version": "3.9.12"
  }
 },
 "nbformat": 4,
 "nbformat_minor": 2
}
